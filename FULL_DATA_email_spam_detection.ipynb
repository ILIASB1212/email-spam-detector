{
 "cells": [
  {
   "cell_type": "code",
   "execution_count": 1,
   "id": "808973f2-d5cd-4c71-96b0-94d6f9270e95",
   "metadata": {},
   "outputs": [],
   "source": [
    "import pandas as pd\n",
    "import numpy as np\n",
    "from nltk.corpus import stopwords\n",
    "from nltk.stem.porter import PorterStemmer\n",
    "from sklearn.metrics import classification_report\n",
    "import re"
   ]
  },
  {
   "cell_type": "code",
   "execution_count": 2,
   "id": "e553da1f-7044-4dc9-9155-bf4d59f1d6bc",
   "metadata": {
    "scrolled": true
   },
   "outputs": [
    {
     "data": {
      "text/html": [
       "<div>\n",
       "<style scoped>\n",
       "    .dataframe tbody tr th:only-of-type {\n",
       "        vertical-align: middle;\n",
       "    }\n",
       "\n",
       "    .dataframe tbody tr th {\n",
       "        vertical-align: top;\n",
       "    }\n",
       "\n",
       "    .dataframe thead th {\n",
       "        text-align: right;\n",
       "    }\n",
       "</style>\n",
       "<table border=\"1\" class=\"dataframe\">\n",
       "  <thead>\n",
       "    <tr style=\"text-align: right;\">\n",
       "      <th></th>\n",
       "      <th>Email Text</th>\n",
       "      <th>Email Type</th>\n",
       "    </tr>\n",
       "  </thead>\n",
       "  <tbody>\n",
       "    <tr>\n",
       "      <th>0</th>\n",
       "      <td>re : 6 . 1100 , disc : uniformitarianism , re ...</td>\n",
       "      <td>0</td>\n",
       "    </tr>\n",
       "    <tr>\n",
       "      <th>1</th>\n",
       "      <td>the other side of * galicismos * * galicismo *...</td>\n",
       "      <td>0</td>\n",
       "    </tr>\n",
       "    <tr>\n",
       "      <th>2</th>\n",
       "      <td>re : equistar deal tickets are you still avail...</td>\n",
       "      <td>0</td>\n",
       "    </tr>\n",
       "    <tr>\n",
       "      <th>3</th>\n",
       "      <td>\\nHello I am your hot lil horny toy.\\n    I am...</td>\n",
       "      <td>1</td>\n",
       "    </tr>\n",
       "    <tr>\n",
       "      <th>4</th>\n",
       "      <td>software at incredibly low prices ( 86 % lower...</td>\n",
       "      <td>1</td>\n",
       "    </tr>\n",
       "    <tr>\n",
       "      <th>...</th>\n",
       "      <td>...</td>\n",
       "      <td>...</td>\n",
       "    </tr>\n",
       "    <tr>\n",
       "      <th>18645</th>\n",
       "      <td>date a lonely housewife always wanted to date ...</td>\n",
       "      <td>1</td>\n",
       "    </tr>\n",
       "    <tr>\n",
       "      <th>18646</th>\n",
       "      <td>request submitted : access request for anita ....</td>\n",
       "      <td>0</td>\n",
       "    </tr>\n",
       "    <tr>\n",
       "      <th>18647</th>\n",
       "      <td>re : important - prc mtg hi dorn &amp; john , as y...</td>\n",
       "      <td>0</td>\n",
       "    </tr>\n",
       "    <tr>\n",
       "      <th>18648</th>\n",
       "      <td>press clippings - letter on californian utilit...</td>\n",
       "      <td>0</td>\n",
       "    </tr>\n",
       "    <tr>\n",
       "      <th>18649</th>\n",
       "      <td>empty</td>\n",
       "      <td>1</td>\n",
       "    </tr>\n",
       "  </tbody>\n",
       "</table>\n",
       "<p>18650 rows × 2 columns</p>\n",
       "</div>"
      ],
      "text/plain": [
       "                                              Email Text  Email Type\n",
       "0      re : 6 . 1100 , disc : uniformitarianism , re ...           0\n",
       "1      the other side of * galicismos * * galicismo *...           0\n",
       "2      re : equistar deal tickets are you still avail...           0\n",
       "3      \\nHello I am your hot lil horny toy.\\n    I am...           1\n",
       "4      software at incredibly low prices ( 86 % lower...           1\n",
       "...                                                  ...         ...\n",
       "18645  date a lonely housewife always wanted to date ...           1\n",
       "18646  request submitted : access request for anita ....           0\n",
       "18647  re : important - prc mtg hi dorn & john , as y...           0\n",
       "18648  press clippings - letter on californian utilit...           0\n",
       "18649                                              empty           1\n",
       "\n",
       "[18650 rows x 2 columns]"
      ]
     },
     "execution_count": 2,
     "metadata": {},
     "output_type": "execute_result"
    }
   ],
   "source": [
    "data=pd.read_csv(\"Phishing_Email.csv\")\n",
    "data[\"Email Type\"]=np.where(data[\"Email Type\"]==\"Safe Email\",0,1)\n",
    "# safe==0 /|\\ Physhing==1\n",
    "data.drop(\"Unnamed: 0\",axis=1,inplace=True)\n",
    "data[\"Email Text\"] = data[\"Email Text\"].fillna(\" \")\n",
    "data"
   ]
  },
  {
   "cell_type": "code",
   "execution_count": 3,
   "id": "90c6a4ac-ce75-438a-93c7-99c59618664a",
   "metadata": {
    "scrolled": true
   },
   "outputs": [
    {
     "data": {
      "text/plain": [
       "Email Text    0\n",
       "Email Type    0\n",
       "dtype: int64"
      ]
     },
     "execution_count": 3,
     "metadata": {},
     "output_type": "execute_result"
    }
   ],
   "source": [
    "data.isna().sum()"
   ]
  },
  {
   "cell_type": "markdown",
   "id": "a84be933-712b-4b54-9af3-8620526e2d16",
   "metadata": {},
   "source": [
    "### STEMMING THE TEXT"
   ]
  },
  {
   "cell_type": "code",
   "execution_count": 4,
   "id": "e7ffeb93-7128-4c04-90cd-b37b35cd9d34",
   "metadata": {},
   "outputs": [],
   "source": [
    "porter=PorterStemmer()\n",
    "def stm(data):\n",
    "    stem_data=re.sub(\"[^a-zA-Z]\",\" \",data)\n",
    "    stem_data=stem_data.lower()\n",
    "    stem_data=stem_data.split()\n",
    "    stem_data=[porter.stem(word) for word in stem_data if word not in stopwords.words(\"english\")]\n",
    "    stem_data=\" \".join(stem_data)\n",
    "    return stem_data"
   ]
  },
  {
   "cell_type": "code",
   "execution_count": 5,
   "id": "7b10a448-2ab8-4438-b65c-ee70e4358a67",
   "metadata": {},
   "outputs": [],
   "source": [
    "#zeros=data[data[\"Email Type\"]==0]\n",
    "#ones=data[data[\"Email Type\"]==1]\n",
    "#b_data=pd.concat([zeros,ones])\n",
    "#b_data=b_data.sample(len(b_data),random_state=34)"
   ]
  },
  {
   "cell_type": "code",
   "execution_count": 6,
   "id": "227c9096-f9f2-40fe-b90c-5a502f3c0f08",
   "metadata": {},
   "outputs": [],
   "source": [
    "data[\"stemed_email_text\"]=data[\"Email Text\"].apply(stm)"
   ]
  },
  {
   "cell_type": "code",
   "execution_count": 8,
   "id": "3b999407-910e-44fa-96b9-da5d8ae27b89",
   "metadata": {
    "scrolled": true
   },
   "outputs": [
    {
     "data": {
      "text/html": [
       "<div>\n",
       "<style scoped>\n",
       "    .dataframe tbody tr th:only-of-type {\n",
       "        vertical-align: middle;\n",
       "    }\n",
       "\n",
       "    .dataframe tbody tr th {\n",
       "        vertical-align: top;\n",
       "    }\n",
       "\n",
       "    .dataframe thead th {\n",
       "        text-align: right;\n",
       "    }\n",
       "</style>\n",
       "<table border=\"1\" class=\"dataframe\">\n",
       "  <thead>\n",
       "    <tr style=\"text-align: right;\">\n",
       "      <th></th>\n",
       "      <th>Email Text</th>\n",
       "      <th>Email Type</th>\n",
       "      <th>stemed_email_text</th>\n",
       "    </tr>\n",
       "  </thead>\n",
       "  <tbody>\n",
       "    <tr>\n",
       "      <th>0</th>\n",
       "      <td>re : 6 . 1100 , disc : uniformitarianism , re ...</td>\n",
       "      <td>0</td>\n",
       "      <td>disc uniformitarian sex lang dick hudson obser...</td>\n",
       "    </tr>\n",
       "    <tr>\n",
       "      <th>1</th>\n",
       "      <td>the other side of * galicismos * * galicismo *...</td>\n",
       "      <td>0</td>\n",
       "      <td>side galicismo galicismo spanish term name imp...</td>\n",
       "    </tr>\n",
       "    <tr>\n",
       "      <th>2</th>\n",
       "      <td>re : equistar deal tickets are you still avail...</td>\n",
       "      <td>0</td>\n",
       "      <td>equistar deal ticket still avail assist robert...</td>\n",
       "    </tr>\n",
       "    <tr>\n",
       "      <th>3</th>\n",
       "      <td>\\nHello I am your hot lil horny toy.\\n    I am...</td>\n",
       "      <td>1</td>\n",
       "      <td>hello hot lil horni toy one dream open mind pe...</td>\n",
       "    </tr>\n",
       "    <tr>\n",
       "      <th>4</th>\n",
       "      <td>software at incredibly low prices ( 86 % lower...</td>\n",
       "      <td>1</td>\n",
       "      <td>softwar incred low price lower draperi sevente...</td>\n",
       "    </tr>\n",
       "    <tr>\n",
       "      <th>...</th>\n",
       "      <td>...</td>\n",
       "      <td>...</td>\n",
       "      <td>...</td>\n",
       "    </tr>\n",
       "    <tr>\n",
       "      <th>18645</th>\n",
       "      <td>date a lonely housewife always wanted to date ...</td>\n",
       "      <td>1</td>\n",
       "      <td>date lone housewif alway want date lone housew...</td>\n",
       "    </tr>\n",
       "    <tr>\n",
       "      <th>18646</th>\n",
       "      <td>request submitted : access request for anita ....</td>\n",
       "      <td>0</td>\n",
       "      <td>request submit access request anita dupont enr...</td>\n",
       "    </tr>\n",
       "    <tr>\n",
       "      <th>18647</th>\n",
       "      <td>re : important - prc mtg hi dorn &amp; john , as y...</td>\n",
       "      <td>0</td>\n",
       "      <td>import prc mtg hi dorn john discov recent stil...</td>\n",
       "    </tr>\n",
       "    <tr>\n",
       "      <th>18648</th>\n",
       "      <td>press clippings - letter on californian utilit...</td>\n",
       "      <td>0</td>\n",
       "      <td>press clip letter californian util pleas find ...</td>\n",
       "    </tr>\n",
       "    <tr>\n",
       "      <th>18649</th>\n",
       "      <td>empty</td>\n",
       "      <td>1</td>\n",
       "      <td>empti</td>\n",
       "    </tr>\n",
       "  </tbody>\n",
       "</table>\n",
       "<p>18650 rows × 3 columns</p>\n",
       "</div>"
      ],
      "text/plain": [
       "                                              Email Text  Email Type  \\\n",
       "0      re : 6 . 1100 , disc : uniformitarianism , re ...           0   \n",
       "1      the other side of * galicismos * * galicismo *...           0   \n",
       "2      re : equistar deal tickets are you still avail...           0   \n",
       "3      \\nHello I am your hot lil horny toy.\\n    I am...           1   \n",
       "4      software at incredibly low prices ( 86 % lower...           1   \n",
       "...                                                  ...         ...   \n",
       "18645  date a lonely housewife always wanted to date ...           1   \n",
       "18646  request submitted : access request for anita ....           0   \n",
       "18647  re : important - prc mtg hi dorn & john , as y...           0   \n",
       "18648  press clippings - letter on californian utilit...           0   \n",
       "18649                                              empty           1   \n",
       "\n",
       "                                       stemed_email_text  \n",
       "0      disc uniformitarian sex lang dick hudson obser...  \n",
       "1      side galicismo galicismo spanish term name imp...  \n",
       "2      equistar deal ticket still avail assist robert...  \n",
       "3      hello hot lil horni toy one dream open mind pe...  \n",
       "4      softwar incred low price lower draperi sevente...  \n",
       "...                                                  ...  \n",
       "18645  date lone housewif alway want date lone housew...  \n",
       "18646  request submit access request anita dupont enr...  \n",
       "18647  import prc mtg hi dorn john discov recent stil...  \n",
       "18648  press clip letter californian util pleas find ...  \n",
       "18649                                              empti  \n",
       "\n",
       "[18650 rows x 3 columns]"
      ]
     },
     "execution_count": 8,
     "metadata": {},
     "output_type": "execute_result"
    }
   ],
   "source": [
    "data"
   ]
  },
  {
   "cell_type": "markdown",
   "id": "dd2d3a07-5b8f-4283-b096-a08f0f7d9a49",
   "metadata": {},
   "source": [
    "### TRAIN_TEST_SPLIT"
   ]
  },
  {
   "cell_type": "code",
   "execution_count": 10,
   "id": "57e6d806-eaf2-438c-aa60-c8aa9581209b",
   "metadata": {},
   "outputs": [],
   "source": [
    "from sklearn.model_selection import train_test_split"
   ]
  },
  {
   "cell_type": "code",
   "execution_count": 11,
   "id": "323d186c-59c3-492e-abbb-a7e2e7f0fa98",
   "metadata": {},
   "outputs": [],
   "source": [
    "x=data[\"stemed_email_text\"]\n",
    "y=data[\"Email Type\"]\n",
    "x_train,x_test,y_train,y_test=train_test_split(x,y,test_size=0.25)"
   ]
  },
  {
   "cell_type": "markdown",
   "id": "9e1e697d-f4c7-4bf1-8b30-5f68fa594948",
   "metadata": {},
   "source": [
    "### VECTORISING STRING TO NUMERIC"
   ]
  },
  {
   "cell_type": "code",
   "execution_count": 12,
   "id": "904caec2-a7a1-4dd3-b9fb-a55697dd3e80",
   "metadata": {},
   "outputs": [],
   "source": [
    "from sklearn.feature_extraction.text import TfidfVectorizer\n",
    "vc=TfidfVectorizer()\n",
    "x_train=vc.fit_transform(x_train)\n",
    "x_test=vc.transform(x_test)"
   ]
  },
  {
   "cell_type": "markdown",
   "id": "44f6cd41-a9e4-47c8-82a4-294a589017c5",
   "metadata": {},
   "source": [
    "### MODELING AND TRAINING"
   ]
  },
  {
   "cell_type": "code",
   "execution_count": 13,
   "id": "fedf5be1-2d32-4427-a76f-47a5fcb2d00a",
   "metadata": {},
   "outputs": [
    {
     "data": {
      "text/html": [
       "<style>#sk-container-id-1 {color: black;background-color: white;}#sk-container-id-1 pre{padding: 0;}#sk-container-id-1 div.sk-toggleable {background-color: white;}#sk-container-id-1 label.sk-toggleable__label {cursor: pointer;display: block;width: 100%;margin-bottom: 0;padding: 0.3em;box-sizing: border-box;text-align: center;}#sk-container-id-1 label.sk-toggleable__label-arrow:before {content: \"▸\";float: left;margin-right: 0.25em;color: #696969;}#sk-container-id-1 label.sk-toggleable__label-arrow:hover:before {color: black;}#sk-container-id-1 div.sk-estimator:hover label.sk-toggleable__label-arrow:before {color: black;}#sk-container-id-1 div.sk-toggleable__content {max-height: 0;max-width: 0;overflow: hidden;text-align: left;background-color: #f0f8ff;}#sk-container-id-1 div.sk-toggleable__content pre {margin: 0.2em;color: black;border-radius: 0.25em;background-color: #f0f8ff;}#sk-container-id-1 input.sk-toggleable__control:checked~div.sk-toggleable__content {max-height: 200px;max-width: 100%;overflow: auto;}#sk-container-id-1 input.sk-toggleable__control:checked~label.sk-toggleable__label-arrow:before {content: \"▾\";}#sk-container-id-1 div.sk-estimator input.sk-toggleable__control:checked~label.sk-toggleable__label {background-color: #d4ebff;}#sk-container-id-1 div.sk-label input.sk-toggleable__control:checked~label.sk-toggleable__label {background-color: #d4ebff;}#sk-container-id-1 input.sk-hidden--visually {border: 0;clip: rect(1px 1px 1px 1px);clip: rect(1px, 1px, 1px, 1px);height: 1px;margin: -1px;overflow: hidden;padding: 0;position: absolute;width: 1px;}#sk-container-id-1 div.sk-estimator {font-family: monospace;background-color: #f0f8ff;border: 1px dotted black;border-radius: 0.25em;box-sizing: border-box;margin-bottom: 0.5em;}#sk-container-id-1 div.sk-estimator:hover {background-color: #d4ebff;}#sk-container-id-1 div.sk-parallel-item::after {content: \"\";width: 100%;border-bottom: 1px solid gray;flex-grow: 1;}#sk-container-id-1 div.sk-label:hover label.sk-toggleable__label {background-color: #d4ebff;}#sk-container-id-1 div.sk-serial::before {content: \"\";position: absolute;border-left: 1px solid gray;box-sizing: border-box;top: 0;bottom: 0;left: 50%;z-index: 0;}#sk-container-id-1 div.sk-serial {display: flex;flex-direction: column;align-items: center;background-color: white;padding-right: 0.2em;padding-left: 0.2em;position: relative;}#sk-container-id-1 div.sk-item {position: relative;z-index: 1;}#sk-container-id-1 div.sk-parallel {display: flex;align-items: stretch;justify-content: center;background-color: white;position: relative;}#sk-container-id-1 div.sk-item::before, #sk-container-id-1 div.sk-parallel-item::before {content: \"\";position: absolute;border-left: 1px solid gray;box-sizing: border-box;top: 0;bottom: 0;left: 50%;z-index: -1;}#sk-container-id-1 div.sk-parallel-item {display: flex;flex-direction: column;z-index: 1;position: relative;background-color: white;}#sk-container-id-1 div.sk-parallel-item:first-child::after {align-self: flex-end;width: 50%;}#sk-container-id-1 div.sk-parallel-item:last-child::after {align-self: flex-start;width: 50%;}#sk-container-id-1 div.sk-parallel-item:only-child::after {width: 0;}#sk-container-id-1 div.sk-dashed-wrapped {border: 1px dashed gray;margin: 0 0.4em 0.5em 0.4em;box-sizing: border-box;padding-bottom: 0.4em;background-color: white;}#sk-container-id-1 div.sk-label label {font-family: monospace;font-weight: bold;display: inline-block;line-height: 1.2em;}#sk-container-id-1 div.sk-label-container {text-align: center;}#sk-container-id-1 div.sk-container {/* jupyter's `normalize.less` sets `[hidden] { display: none; }` but bootstrap.min.css set `[hidden] { display: none !important; }` so we also need the `!important` here to be able to override the default hidden behavior on the sphinx rendered scikit-learn.org. See: https://github.com/scikit-learn/scikit-learn/issues/21755 */display: inline-block !important;position: relative;}#sk-container-id-1 div.sk-text-repr-fallback {display: none;}</style><div id=\"sk-container-id-1\" class=\"sk-top-container\"><div class=\"sk-text-repr-fallback\"><pre>LogisticRegression(max_iter=1000)</pre><b>In a Jupyter environment, please rerun this cell to show the HTML representation or trust the notebook. <br />On GitHub, the HTML representation is unable to render, please try loading this page with nbviewer.org.</b></div><div class=\"sk-container\" hidden><div class=\"sk-item\"><div class=\"sk-estimator sk-toggleable\"><input class=\"sk-toggleable__control sk-hidden--visually\" id=\"sk-estimator-id-1\" type=\"checkbox\" checked><label for=\"sk-estimator-id-1\" class=\"sk-toggleable__label sk-toggleable__label-arrow\">LogisticRegression</label><div class=\"sk-toggleable__content\"><pre>LogisticRegression(max_iter=1000)</pre></div></div></div></div></div>"
      ],
      "text/plain": [
       "LogisticRegression(max_iter=1000)"
      ]
     },
     "execution_count": 13,
     "metadata": {},
     "output_type": "execute_result"
    }
   ],
   "source": [
    "from sklearn.linear_model import LogisticRegression\n",
    "model=LogisticRegression(max_iter=1000)\n",
    "model.fit(x_train,y_train)"
   ]
  },
  {
   "cell_type": "code",
   "execution_count": 14,
   "id": "46dd58fe-3f41-403d-84eb-a3d72e0b4d7d",
   "metadata": {},
   "outputs": [
    {
     "data": {
      "text/plain": [
       "0.9799099163508973"
      ]
     },
     "execution_count": 14,
     "metadata": {},
     "output_type": "execute_result"
    }
   ],
   "source": [
    "model.score(x_train,y_train)"
   ]
  },
  {
   "cell_type": "code",
   "execution_count": 15,
   "id": "bf51de22-d631-495a-a85e-38dcb9f0b009",
   "metadata": {
    "scrolled": true
   },
   "outputs": [
    {
     "name": "stdout",
     "output_type": "stream",
     "text": [
      "              precision    recall  f1-score   support\n",
      "\n",
      "           0       0.99      0.97      0.98      8518\n",
      "           1       0.96      0.99      0.97      5469\n",
      "\n",
      "    accuracy                           0.98     13987\n",
      "   macro avg       0.98      0.98      0.98     13987\n",
      "weighted avg       0.98      0.98      0.98     13987\n",
      "\n"
     ]
    }
   ],
   "source": [
    "train_prediction=model.predict(x_train)\n",
    "\n",
    "report=classification_report(y_train,train_prediction)\n",
    "print(report)"
   ]
  },
  {
   "cell_type": "markdown",
   "id": "7302e40c-8d1b-4a84-8bcd-28dffba34683",
   "metadata": {},
   "source": [
    "### TESTING"
   ]
  },
  {
   "cell_type": "code",
   "execution_count": 16,
   "id": "31388e82-d764-4778-8023-09e98e04d057",
   "metadata": {
    "scrolled": true
   },
   "outputs": [
    {
     "name": "stdout",
     "output_type": "stream",
     "text": [
      "              precision    recall  f1-score   support\n",
      "\n",
      "           0       0.98      0.97      0.97      2804\n",
      "           1       0.96      0.97      0.96      1859\n",
      "\n",
      "    accuracy                           0.97      4663\n",
      "   macro avg       0.97      0.97      0.97      4663\n",
      "weighted avg       0.97      0.97      0.97      4663\n",
      "\n"
     ]
    }
   ],
   "source": [
    "test_prediction=model.predict(x_test)\n",
    "\n",
    "report=classification_report(y_test,test_prediction)\n",
    "print(report)"
   ]
  },
  {
   "cell_type": "code",
   "execution_count": null,
   "id": "63c88b0f-8400-433a-a19e-64a513077bc9",
   "metadata": {},
   "outputs": [],
   "source": []
  },
  {
   "cell_type": "markdown",
   "id": "3edb1a75-d614-48a8-b612-c2152cc1e278",
   "metadata": {},
   "source": [
    "# TESTING WITH NEW DATA"
   ]
  },
  {
   "cell_type": "code",
   "execution_count": 17,
   "id": "54850012-2163-4597-a98f-43b5b55fc25f",
   "metadata": {
    "scrolled": true
   },
   "outputs": [
    {
     "data": {
      "text/html": [
       "<div>\n",
       "<style scoped>\n",
       "    .dataframe tbody tr th:only-of-type {\n",
       "        vertical-align: middle;\n",
       "    }\n",
       "\n",
       "    .dataframe tbody tr th {\n",
       "        vertical-align: top;\n",
       "    }\n",
       "\n",
       "    .dataframe thead th {\n",
       "        text-align: right;\n",
       "    }\n",
       "</style>\n",
       "<table border=\"1\" class=\"dataframe\">\n",
       "  <thead>\n",
       "    <tr style=\"text-align: right;\">\n",
       "      <th></th>\n",
       "      <th>Email Text</th>\n",
       "      <th>Email Type</th>\n",
       "      <th>stemed_email_text</th>\n",
       "    </tr>\n",
       "  </thead>\n",
       "  <tbody>\n",
       "    <tr>\n",
       "      <th>14712</th>\n",
       "      <td>Eliminate your credit card debt without filin...</td>\n",
       "      <td>1</td>\n",
       "      <td>elimin credit card debt without file bankruptc...</td>\n",
       "    </tr>\n",
       "  </tbody>\n",
       "</table>\n",
       "</div>"
      ],
      "text/plain": [
       "                                              Email Text  Email Type  \\\n",
       "14712   Eliminate your credit card debt without filin...           1   \n",
       "\n",
       "                                       stemed_email_text  \n",
       "14712  elimin credit card debt without file bankruptc...  "
      ]
     },
     "execution_count": 17,
     "metadata": {},
     "output_type": "execute_result"
    }
   ],
   "source": [
    "test=data.sample()\n",
    "test[\"stemed_email_text\"]=test[\"Email Text\"].apply(stm)\n",
    "test"
   ]
  },
  {
   "cell_type": "code",
   "execution_count": 18,
   "id": "d5300851-cf48-4db2-95f7-54934334243b",
   "metadata": {},
   "outputs": [],
   "source": [
    "test_message=vc.transform(test[\"stemed_email_text\"])"
   ]
  },
  {
   "cell_type": "code",
   "execution_count": 19,
   "id": "3cfefa0e-793c-49af-a1fc-3df8b9f80874",
   "metadata": {},
   "outputs": [
    {
     "data": {
      "text/plain": [
       "array([1])"
      ]
     },
     "execution_count": 19,
     "metadata": {},
     "output_type": "execute_result"
    }
   ],
   "source": [
    "model.predict(test_message)"
   ]
  },
  {
   "cell_type": "code",
   "execution_count": 20,
   "id": "5ba2ad85-7684-4651-8009-7b83b6abe63e",
   "metadata": {},
   "outputs": [],
   "source": [
    "def testing(message):\n",
    "    test[\"stemed_email_text\"]=message.apply(stm)\n",
    "    message= test[\"stemed_email_text\"].fillna(\"\").astype(str)\n",
    "    test_message=vc.transform(message)\n",
    "    if model.predict(test_message)==1:\n",
    "        return \"Its A Spam Message Cautions\"\n",
    "    else:\n",
    "        return print(\"Its All good\\nYou Have A New Message\")"
   ]
  },
  {
   "cell_type": "code",
   "execution_count": 21,
   "id": "24a22c81-d500-4e49-9cf9-82b770be5034",
   "metadata": {},
   "outputs": [
    {
     "data": {
      "text/html": [
       "<div>\n",
       "<style scoped>\n",
       "    .dataframe tbody tr th:only-of-type {\n",
       "        vertical-align: middle;\n",
       "    }\n",
       "\n",
       "    .dataframe tbody tr th {\n",
       "        vertical-align: top;\n",
       "    }\n",
       "\n",
       "    .dataframe thead th {\n",
       "        text-align: right;\n",
       "    }\n",
       "</style>\n",
       "<table border=\"1\" class=\"dataframe\">\n",
       "  <thead>\n",
       "    <tr style=\"text-align: right;\">\n",
       "      <th></th>\n",
       "      <th>Email Text</th>\n",
       "      <th>Email Type</th>\n",
       "      <th>stemed_email_text</th>\n",
       "    </tr>\n",
       "  </thead>\n",
       "  <tbody>\n",
       "    <tr>\n",
       "      <th>10810</th>\n",
       "      <td>re : deal 156071 feb 00 daren , i must be miss...</td>\n",
       "      <td>0</td>\n",
       "      <td>deal feb daren must miss someth meet today sho...</td>\n",
       "    </tr>\n",
       "  </tbody>\n",
       "</table>\n",
       "</div>"
      ],
      "text/plain": [
       "                                              Email Text  Email Type  \\\n",
       "10810  re : deal 156071 feb 00 daren , i must be miss...           0   \n",
       "\n",
       "                                       stemed_email_text  \n",
       "10810  deal feb daren must miss someth meet today sho...  "
      ]
     },
     "execution_count": 21,
     "metadata": {},
     "output_type": "execute_result"
    }
   ],
   "source": [
    "test=data.sample()\n",
    "test[\"stemed_email_text\"]=test[\"Email Text\"].apply(stm)\n",
    "test"
   ]
  },
  {
   "cell_type": "code",
   "execution_count": 22,
   "id": "edcc91e9-6e7c-4456-8b64-30e264131caa",
   "metadata": {},
   "outputs": [
    {
     "name": "stdout",
     "output_type": "stream",
     "text": [
      "Its All good\n",
      "You Have A New Message\n"
     ]
    }
   ],
   "source": [
    "testing(test[\"Email Text\"])"
   ]
  },
  {
   "cell_type": "code",
   "execution_count": 23,
   "id": "2affe6aa-9484-45e5-9421-f221a2dab47d",
   "metadata": {},
   "outputs": [],
   "source": [
    "import pandas as pd\n",
    "\n",
    "# Creating a new professional message\n",
    "data_author_message = {\n",
    "    \"message\": [\n",
    "        '''Subject: Meeting Agenda for Thursday's Product Review\n",
    "\n",
    "Message: Dear Team,\n",
    "\n",
    "I hope this message finds you well. As we approach our Thursday product review meeting, I wanted to share the proposed agenda so we can all come prepared:\n",
    "\n",
    "1. Progress on the Q2 roadmap\n",
    "2. Feature requests and prioritization\n",
    "3. Customer feedback from the latest release\n",
    "4. Next sprint planning\n",
    "\n",
    "Please let me know if you have any items to add or if there are any scheduling conflicts. Looking forward to a productive session.\n",
    "\n",
    "Best regards,\n",
    "Anna Rodriguez\n",
    "Product Manager\n",
    "TechNova Solutions'''\n",
    "    ]\n",
    "}\n",
    "df= pd.DataFrame(data_author_message)"
   ]
  },
  {
   "cell_type": "code",
   "execution_count": 24,
   "id": "b3480bed-c129-4735-aa23-4fba8f4ebde6",
   "metadata": {},
   "outputs": [
    {
     "data": {
      "text/plain": [
       "'Its A Spam Message Cautions'"
      ]
     },
     "execution_count": 24,
     "metadata": {},
     "output_type": "execute_result"
    }
   ],
   "source": [
    "testing(df[\"message\"])"
   ]
  },
  {
   "cell_type": "code",
   "execution_count": 25,
   "id": "57ff4071-f21d-4f38-a9be-a182ff460ca1",
   "metadata": {},
   "outputs": [
    {
     "data": {
      "text/html": [
       "<div>\n",
       "<style scoped>\n",
       "    .dataframe tbody tr th:only-of-type {\n",
       "        vertical-align: middle;\n",
       "    }\n",
       "\n",
       "    .dataframe tbody tr th {\n",
       "        vertical-align: top;\n",
       "    }\n",
       "\n",
       "    .dataframe thead th {\n",
       "        text-align: right;\n",
       "    }\n",
       "</style>\n",
       "<table border=\"1\" class=\"dataframe\">\n",
       "  <thead>\n",
       "    <tr style=\"text-align: right;\">\n",
       "      <th></th>\n",
       "      <th>message</th>\n",
       "    </tr>\n",
       "  </thead>\n",
       "  <tbody>\n",
       "    <tr>\n",
       "      <th>0</th>\n",
       "      <td>Subject: Reminder: Submit Your Monthly Report\\...</td>\n",
       "    </tr>\n",
       "  </tbody>\n",
       "</table>\n",
       "</div>"
      ],
      "text/plain": [
       "                                             message\n",
       "0  Subject: Reminder: Submit Your Monthly Report\\..."
      ]
     },
     "execution_count": 25,
     "metadata": {},
     "output_type": "execute_result"
    }
   ],
   "source": [
    "data_new_message = {\n",
    "    \"message\": [\n",
    "        '''Subject: Reminder: Submit Your Monthly Report\n",
    "\n",
    "Message: Hi Alex,\n",
    "\n",
    "Just a friendly reminder to submit your monthly progress report by Friday, end of day. This helps us keep track of ongoing projects and identify any areas where support is needed.\n",
    "\n",
    "If you have any questions or need extra time, feel free to reach out.\n",
    "\n",
    "Thanks in advance!\n",
    "\n",
    "Best,  \n",
    "Jordan Lee  \n",
    "Operations Coordinator'''\n",
    "    ]\n",
    "}\n",
    "df= pd.DataFrame(data_new_message)\n",
    "df"
   ]
  },
  {
   "cell_type": "code",
   "execution_count": 26,
   "id": "ae6be150-1fd1-41fd-9d4f-432d08823605",
   "metadata": {},
   "outputs": [
    {
     "data": {
      "text/plain": [
       "'Its A Spam Message Cautions'"
      ]
     },
     "execution_count": 26,
     "metadata": {},
     "output_type": "execute_result"
    }
   ],
   "source": [
    "testing(df[\"message\"])"
   ]
  },
  {
   "cell_type": "code",
   "execution_count": 27,
   "id": "27b3be59-e1fe-4ea6-bf05-641d4d155ef8",
   "metadata": {},
   "outputs": [
    {
     "data": {
      "text/html": [
       "<div>\n",
       "<style scoped>\n",
       "    .dataframe tbody tr th:only-of-type {\n",
       "        vertical-align: middle;\n",
       "    }\n",
       "\n",
       "    .dataframe tbody tr th {\n",
       "        vertical-align: top;\n",
       "    }\n",
       "\n",
       "    .dataframe thead th {\n",
       "        text-align: right;\n",
       "    }\n",
       "</style>\n",
       "<table border=\"1\" class=\"dataframe\">\n",
       "  <thead>\n",
       "    <tr style=\"text-align: right;\">\n",
       "      <th></th>\n",
       "      <th>message</th>\n",
       "    </tr>\n",
       "  </thead>\n",
       "  <tbody>\n",
       "    <tr>\n",
       "      <th>0</th>\n",
       "      <td>Subject: You've Won a $1000 Cash Prize!\\n\\nMes...</td>\n",
       "    </tr>\n",
       "  </tbody>\n",
       "</table>\n",
       "</div>"
      ],
      "text/plain": [
       "                                             message\n",
       "0  Subject: You've Won a $1000 Cash Prize!\\n\\nMes..."
      ]
     },
     "execution_count": 27,
     "metadata": {},
     "output_type": "execute_result"
    }
   ],
   "source": [
    "# Creating a spam message for the DataFrame\n",
    "data_spam_message = {\n",
    "    \"message\": [\n",
    "        '''Subject: You've Won a $1000 Cash Prize!\n",
    "\n",
    "Message: Congratulations! You've been selected to receive a $1000 cash prize. All you need to do to claim your prize is follow the link below and fill out your personal information, including bank account details, to receive the funds.\n",
    "\n",
    "Don't miss out on this incredible opportunity, but hurry, time is running out!\n",
    "\n",
    "Claim your cash prize now: [link]\n",
    "\n",
    "Best regards,  \n",
    "The Prize Distribution Team  \n",
    "**Important**: This is an urgent message, please do not ignore it!'''\n",
    "    ]\n",
    "}\n",
    "\n",
    "df= pd.DataFrame(data_spam_message)\n",
    "df"
   ]
  },
  {
   "cell_type": "code",
   "execution_count": 29,
   "id": "e9c274f7-e266-4aa5-a4ae-3a90fc25143a",
   "metadata": {},
   "outputs": [
    {
     "data": {
      "text/plain": [
       "'Its A Spam Message Cautions'"
      ]
     },
     "execution_count": 29,
     "metadata": {},
     "output_type": "execute_result"
    }
   ],
   "source": [
    "testing(df[\"message\"])"
   ]
  },
  {
   "cell_type": "code",
   "execution_count": null,
   "id": "efd6d595-de59-43cd-be89-e7cce6b06d13",
   "metadata": {},
   "outputs": [],
   "source": []
  }
 ],
 "metadata": {
  "kernelspec": {
   "display_name": "Python 3 (ipykernel)",
   "language": "python",
   "name": "python3"
  },
  "language_info": {
   "codemirror_mode": {
    "name": "ipython",
    "version": 3
   },
   "file_extension": ".py",
   "mimetype": "text/x-python",
   "name": "python",
   "nbconvert_exporter": "python",
   "pygments_lexer": "ipython3",
   "version": "3.11.7"
  }
 },
 "nbformat": 4,
 "nbformat_minor": 5
}
